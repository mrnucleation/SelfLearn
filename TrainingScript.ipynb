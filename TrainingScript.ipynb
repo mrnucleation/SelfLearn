{
 "cells": [
  {
   "cell_type": "code",
   "execution_count": 1,
   "metadata": {},
   "outputs": [],
   "source": [
    "from MCTSOpt import Tree\n",
    "from MCTSOpt.SelectionRule_Stocastic import UBStocastic\n",
    "from MCTSOpt.ParameterOpt import LogisticSearch\n",
    "from time import time\n",
    "import numpy as np"
   ]
  },
  {
   "cell_type": "code",
   "execution_count": 2,
   "metadata": {},
   "outputs": [
    {
     "name": "stdout",
     "output_type": "stream",
     "text": [
      "Using TensorFlow backend\n"
     ]
    },
    {
     "name": "stderr",
     "output_type": "stream",
     "text": [
      "2023-10-17 16:34:57.745382: I tensorflow/tsl/cuda/cudart_stub.cc:28] Could not find cuda drivers on your machine, GPU will not be used.\n",
      "2023-10-17 16:34:57.803641: I tensorflow/tsl/cuda/cudart_stub.cc:28] Could not find cuda drivers on your machine, GPU will not be used.\n",
      "2023-10-17 16:34:57.804954: I tensorflow/core/platform/cpu_feature_guard.cc:182] This TensorFlow binary is optimized to use available CPU instructions in performance-critical operations.\n",
      "To enable the following instructions: AVX2 FMA, in other operations, rebuild TensorFlow with the appropriate compiler flags.\n",
      "2023-10-17 16:34:58.757742: W tensorflow/compiler/tf2tensorrt/utils/py_utils.cc:38] TF-TRT Warning: Could not find TensorRT\n"
     ]
    },
    {
     "name": "stdout",
     "output_type": "stream",
     "text": [
      "(1, 32)\n",
      "(32,)\n",
      "(32, 64)\n",
      "(64,)\n",
      "(64, 64)\n",
      "(64,)\n",
      "(64, 32)\n",
      "(32,)\n",
      "(32, 1)\n",
      "(1,)\n",
      "Number of parameters:  8449\n"
     ]
    },
    {
     "name": "stderr",
     "output_type": "stream",
     "text": [
      "/usr/local/lib/python3.10/dist-packages/keras_core/src/layers/core/dense.py:73: UserWarning: Do not pass an `input_shape`/`input_dim` argument to a layer. When using Sequential models, prefer using an `Input(shape)` object as the first layer in the model instead.\n",
      "  super().__init__(activity_regularizer=activity_regularizer, **kwargs)\n"
     ]
    }
   ],
   "source": [
    "from Model import getexploremodel\n",
    "model = getexploremodel()\n",
    "\n",
    "nparameters = 0\n",
    "for layer in model.trainable_weights:\n",
    "    print(layer.shape)\n",
    "    nparameters += layer.shape.num_elements()\n",
    "print(\"Number of parameters: \", nparameters)\n",
    "\n"
   ]
  },
  {
   "cell_type": "code",
   "execution_count": 3,
   "metadata": {},
   "outputs": [
    {
     "name": "stdout",
     "output_type": "stream",
     "text": [
      "Using a Deadzone of width: 0.25\n",
      "Deadzone low/high: -0.125, 0.125\n",
      "X Bounds:  -3 3\n",
      "Y Bounds:  -3 3\n",
      "X Bounds:  -30 30\n",
      "Y Bounds:  -30 30\n",
      "X Bounds:  -2.048 2.048\n",
      "Y Bounds:  -2.048 2.048\n",
      "X Bounds:  -3.141592653589793 3.141592653589793\n",
      "Y Bounds:  -3.141592653589793 3.141592653589793\n",
      "X Bounds:  -600 600\n",
      "Y Bounds:  -600 600\n",
      "X Bounds:  -50 50\n",
      "Y Bounds:  -50 50\n",
      "X Bounds:  -1.28 1.28\n",
      "Y Bounds:  -1.28 1.28\n",
      "X Bounds:  -5.12 5.12\n",
      "Y Bounds:  -5.12 5.12\n",
      "X Bounds:  -65.536 65.536\n",
      "Y Bounds:  -65.536 65.536\n",
      "X Bounds:  -100 100\n",
      "Y Bounds:  -100 100\n",
      "X Bounds:  -10 10\n",
      "Y Bounds:  -10 10\n",
      "X Bounds:  -500 500\n",
      "Y Bounds:  -500 500\n",
      "X Bounds:  -6 6\n",
      "Y Bounds:  -6 6\n",
      "X Bounds:  -10 10\n",
      "Y Bounds:  -10 10\n",
      "X Bounds:  0 3.141592653589793\n",
      "Y Bounds:  0 3.141592653589793\n",
      "X Bounds:  -7 7\n",
      "Y Bounds:  -7 7\n",
      "X Bounds:  -512 512\n",
      "Y Bounds:  -512 512\n",
      "<HierObj_FuncTest.Func_Fragment object at 0x7f93ec08f670>\n",
      "<HierObj_FuncTest.Func_Fragment object at 0x7f93ec08f6a0>\n",
      "<HierObj_FuncTest.Func_Fragment object at 0x7f93ec08f6d0>\n",
      "<HierObj_FuncTest.Func_Fragment object at 0x7f93ec08f700>\n",
      "<HierObj_FuncTest.Func_Fragment object at 0x7f93ec08f730>\n",
      "<HierObj_FuncTest.Func_Fragment object at 0x7f93ec08f760>\n",
      "<HierObj_FuncTest.Func_Fragment object at 0x7f93ec08f790>\n",
      "<HierObj_FuncTest.Func_Fragment object at 0x7f93ec08f7c0>\n",
      "<HierObj_FuncTest.Func_Fragment object at 0x7f93ec08f7f0>\n",
      "<HierObj_FuncTest.Func_Fragment object at 0x7f93ec08f820>\n",
      "<HierObj_FuncTest.Func_Fragment object at 0x7f93ec08f850>\n",
      "<HierObj_FuncTest.Func_Fragment object at 0x7f93ec08f880>\n",
      "<HierObj_FuncTest.Func_Fragment object at 0x7f93ec08f8b0>\n",
      "<HierObj_FuncTest.Func_Fragment object at 0x7f93ec08f8e0>\n",
      "<HierObj_FuncTest.Func_Fragment object at 0x7f93ec08f910>\n",
      "<HierObj_FuncTest.Func_Fragment object at 0x7f93ec08f940>\n",
      "<HierObj_FuncTest.Func_Fragment object at 0x7f93ec08f970>\n",
      "Object Type: DeadZone, Depth: 0\n",
      "Object Type: Function_Ackley, Depth: 1\n",
      "Object Type: Function_AckleyTest, Depth: 2\n",
      "Object Type: Function_Rosenbrock, Depth: 3\n",
      "Object Type: Function_Fletcher, Depth: 4\n",
      "Object Type: Function_Griewank, Depth: 5\n",
      "Object Type: Function_Penalty2, Depth: 6\n",
      "Object Type: Function_Quartic, Depth: 7\n",
      "Object Type: Function_Rastrigin, Depth: 8\n",
      "Object Type: Function_SchwefelDouble, Depth: 9\n",
      "Object Type: Function_SchwefelMax, Depth: 10\n",
      "Object Type: Function_SchwefelAbs, Depth: 11\n",
      "Object Type: Function_SchwefelSin, Depth: 12\n",
      "Object Type: Function_Stairs, Depth: 13\n",
      "Object Type: Function_Abs, Depth: 14\n",
      "Object Type: Function_Michalewicz, Depth: 15\n",
      "Object Type: Function_Scheffer, Depth: 16\n",
      "Object Type: Function_Eggholder, Depth: 17\n"
     ]
    }
   ],
   "source": [
    "from ScoringFunction import MCTS_MacroScore\n",
    "deadzonewidth = 0.25\n",
    "objfunc = MCTS_MacroScore(model, deadzone=deadzonewidth)"
   ]
  },
  {
   "cell_type": "code",
   "execution_count": 4,
   "metadata": {},
   "outputs": [],
   "source": [
    "depthscale = [1.0, 0.7, 0.5, 0.3, 0.2, 0.1]\n",
    "depthlimit = len(depthscale)+5\n",
    "\n",
    "startset = [0.0]*nparameters\n",
    "lbounds = [-1.5-deadzonewidth]*nparameters\n",
    "ubounds = [ 1.5+deadzonewidth]*nparameters\n",
    "\n",
    "startset = np.array(startset)\n",
    "lbounds = np.array(lbounds)\n",
    "ubounds = np.array(ubounds)\n",
    "\n",
    "\n",
    "\n",
    "indata = LogisticSearch(parameters=startset, lossfunction=objfunc,  lbounds=lbounds, ubounds=ubounds, depthscale=depthscale)"
   ]
  },
  {
   "cell_type": "code",
   "execution_count": 5,
   "metadata": {},
   "outputs": [
    {
     "name": "stdout",
     "output_type": "stream",
     "text": [
      "Starting Chain, Depth: 0\n"
     ]
    },
    {
     "ename": "TypeError",
     "evalue": "unsupported operand type(s) for *=: 'float' and 'dict'",
     "output_type": "error",
     "traceback": [
      "\u001b[0;31m---------------------------------------------------------------------------\u001b[0m",
      "\u001b[0;31mTypeError\u001b[0m                                 Traceback (most recent call last)",
      "\u001b[1;32m/home/troy/MCTS_SelfLearn/TrainingScript.ipynb Cell 5\u001b[0m line \u001b[0;36m9\n\u001b[1;32m      <a href='vscode-notebook-cell://wsl%2Bubuntu-22.04/home/troy/MCTS_SelfLearn/TrainingScript.ipynb#W2sdnNjb2RlLXJlbW90ZQ%3D%3D?line=0'>1</a>\u001b[0m \u001b[39m#---Tree Main Run loop---\u001b[39;00m\n\u001b[1;32m      <a href='vscode-notebook-cell://wsl%2Bubuntu-22.04/home/troy/MCTS_SelfLearn/TrainingScript.ipynb#W2sdnNjb2RlLXJlbW90ZQ%3D%3D?line=1'>2</a>\u001b[0m \u001b[39m#Critical Parameters to Set\u001b[39;00m\n\u001b[1;32m      <a href='vscode-notebook-cell://wsl%2Bubuntu-22.04/home/troy/MCTS_SelfLearn/TrainingScript.ipynb#W2sdnNjb2RlLXJlbW90ZQ%3D%3D?line=2'>3</a>\u001b[0m tree \u001b[39m=\u001b[39m Tree(seeddata\u001b[39m=\u001b[39mindata, \n\u001b[1;32m      <a href='vscode-notebook-cell://wsl%2Bubuntu-22.04/home/troy/MCTS_SelfLearn/TrainingScript.ipynb#W2sdnNjb2RlLXJlbW90ZQ%3D%3D?line=3'>4</a>\u001b[0m         playouts\u001b[39m=\u001b[39m\u001b[39m20\u001b[39m, \n\u001b[1;32m      <a href='vscode-notebook-cell://wsl%2Bubuntu-22.04/home/troy/MCTS_SelfLearn/TrainingScript.ipynb#W2sdnNjb2RlLXJlbW90ZQ%3D%3D?line=4'>5</a>\u001b[0m         selectfunction\u001b[39m=\u001b[39mUBStocastic, \n\u001b[1;32m      <a href='vscode-notebook-cell://wsl%2Bubuntu-22.04/home/troy/MCTS_SelfLearn/TrainingScript.ipynb#W2sdnNjb2RlLXJlbW90ZQ%3D%3D?line=5'>6</a>\u001b[0m         headexpansion\u001b[39m=\u001b[39m\u001b[39m30\u001b[39m,\n\u001b[1;32m      <a href='vscode-notebook-cell://wsl%2Bubuntu-22.04/home/troy/MCTS_SelfLearn/TrainingScript.ipynb#W2sdnNjb2RlLXJlbW90ZQ%3D%3D?line=6'>7</a>\u001b[0m         verbose\u001b[39m=\u001b[39m\u001b[39mTrue\u001b[39;00m\n\u001b[1;32m      <a href='vscode-notebook-cell://wsl%2Bubuntu-22.04/home/troy/MCTS_SelfLearn/TrainingScript.ipynb#W2sdnNjb2RlLXJlbW90ZQ%3D%3D?line=7'>8</a>\u001b[0m         )\n\u001b[0;32m----> <a href='vscode-notebook-cell://wsl%2Bubuntu-22.04/home/troy/MCTS_SelfLearn/TrainingScript.ipynb#W2sdnNjb2RlLXJlbW90ZQ%3D%3D?line=8'>9</a>\u001b[0m tree\u001b[39m.\u001b[39;49mexpand(nExpansions\u001b[39m=\u001b[39;49m\u001b[39m1\u001b[39;49m)\n\u001b[1;32m     <a href='vscode-notebook-cell://wsl%2Bubuntu-22.04/home/troy/MCTS_SelfLearn/TrainingScript.ipynb#W2sdnNjb2RlLXJlbW90ZQ%3D%3D?line=9'>10</a>\u001b[0m tree\u001b[39m.\u001b[39msetconstant(\u001b[39m5.37e2\u001b[39m)\n\u001b[1;32m     <a href='vscode-notebook-cell://wsl%2Bubuntu-22.04/home/troy/MCTS_SelfLearn/TrainingScript.ipynb#W2sdnNjb2RlLXJlbW90ZQ%3D%3D?line=10'>11</a>\u001b[0m starttime \u001b[39m=\u001b[39m time()\n",
      "File \u001b[0;32m/usr/local/lib/python3.10/dist-packages/MCTSOpt-0.0.2-py3.10.egg/MCTSOpt/MCTree.py:174\u001b[0m, in \u001b[0;36mTree.expand\u001b[0;34m(self, nExpansions, writeevery, savefile, depthlimit)\u001b[0m\n\u001b[1;32m    172\u001b[0m \u001b[39mif\u001b[39;00m \u001b[39mself\u001b[39m\u001b[39m.\u001b[39mheadnode\u001b[39m.\u001b[39mgetvisits() \u001b[39m==\u001b[39m \u001b[39m0\u001b[39m:\n\u001b[1;32m    173\u001b[0m     \u001b[39mif\u001b[39;00m \u001b[39mself\u001b[39m\u001b[39m.\u001b[39mplayouts \u001b[39m>\u001b[39m \u001b[39m0\u001b[39m:\n\u001b[0;32m--> 174\u001b[0m         \u001b[39mself\u001b[39;49m\u001b[39m.\u001b[39;49mheadnode\u001b[39m.\u001b[39;49msimulate(\u001b[39m1\u001b[39;49m)\n\u001b[1;32m    175\u001b[0m         \u001b[39mself\u001b[39m\u001b[39m.\u001b[39mheadnode\u001b[39m.\u001b[39mevaluate()\n\u001b[1;32m    177\u001b[0m \u001b[39m#Head Expansion Block. Creates new nodes that are attached to the headnode\u001b[39;00m\n\u001b[1;32m    178\u001b[0m \u001b[39m#until N_children == self.headexpand.  \u001b[39;00m\n",
      "File \u001b[0;32m/usr/local/lib/python3.10/dist-packages/MCTSOpt-0.0.2-py3.10.egg/MCTSOpt/Node.py:308\u001b[0m, in \u001b[0;36mNode.simulate\u001b[0;34m(self, playouts)\u001b[0m\n\u001b[1;32m    305\u001b[0m \u001b[39mif\u001b[39;00m \u001b[39mlen\u001b[39m(\u001b[39mself\u001b[39m\u001b[39m.\u001b[39mplayenergies) \u001b[39m>\u001b[39m\u001b[39m=\u001b[39m \u001b[39mself\u001b[39m\u001b[39m.\u001b[39mmaxplayouts:\n\u001b[1;32m    306\u001b[0m     \u001b[39mreturn\u001b[39;00m\n\u001b[0;32m--> 308\u001b[0m energies, structures \u001b[39m=\u001b[39m \u001b[39mself\u001b[39;49m\u001b[39m.\u001b[39;49mdata\u001b[39m.\u001b[39;49mrunsim(playouts\u001b[39m=\u001b[39;49mplayouts, node\u001b[39m=\u001b[39;49m\u001b[39mself\u001b[39;49m)\n\u001b[1;32m    309\u001b[0m \u001b[39mself\u001b[39m\u001b[39m.\u001b[39mplaystructs \u001b[39m=\u001b[39m \u001b[39mself\u001b[39m\u001b[39m.\u001b[39mplaystructs \u001b[39m+\u001b[39m structures\n\u001b[1;32m    310\u001b[0m \u001b[39mself\u001b[39m\u001b[39m.\u001b[39mplayenergies \u001b[39m=\u001b[39m \u001b[39mself\u001b[39m\u001b[39m.\u001b[39mplayenergies \u001b[39m+\u001b[39m energies\n",
      "File \u001b[0;32m/usr/local/lib/python3.10/dist-packages/MCTSOpt-0.0.2-py3.10.egg/MCTSOpt/ParameterOpt/LogisticSearch.py:462\u001b[0m, in \u001b[0;36mLogisticSearch.runsim\u001b[0;34m(self, playouts, node)\u001b[0m\n\u001b[1;32m    460\u001b[0m     newlist \u001b[39m=\u001b[39m tempstr\n\u001b[1;32m    461\u001b[0m     structlist\u001b[39m.\u001b[39mappend(newlist)\n\u001b[0;32m--> 462\u001b[0m     energy \u001b[39m=\u001b[39m \u001b[39mself\u001b[39;49m\u001b[39m.\u001b[39;49mlossfunction(newlist)\n\u001b[1;32m    463\u001b[0m     energylist\u001b[39m.\u001b[39mappend(energy)\n\u001b[1;32m    466\u001b[0m \u001b[39mif\u001b[39;00m \u001b[39mself\u001b[39m\u001b[39m.\u001b[39mverbose:\n",
      "File \u001b[0;32m~/MCTS_SelfLearn/ScoringFunction.py:54\u001b[0m, in \u001b[0;36mMCTS_MacroScore.__call__\u001b[0;34m(self, parameters, depth, **kwargs)\u001b[0m\n\u001b[1;32m     53\u001b[0m \u001b[39mdef\u001b[39;00m \u001b[39m__call__\u001b[39m(\u001b[39mself\u001b[39m, parameters, depth\u001b[39m=\u001b[39m\u001b[39m0\u001b[39m, \u001b[39m*\u001b[39m\u001b[39m*\u001b[39mkwargs):\n\u001b[0;32m---> 54\u001b[0m     score \u001b[39m=\u001b[39m \u001b[39mself\u001b[39;49m\u001b[39m.\u001b[39;49mheracleobj(parameters, depth\u001b[39m=\u001b[39;49mdepth, \u001b[39m*\u001b[39;49m\u001b[39m*\u001b[39;49mkwargs)\n\u001b[1;32m     55\u001b[0m     \u001b[39mif\u001b[39;00m \u001b[39mself\u001b[39m\u001b[39m.\u001b[39mbestscore \u001b[39m>\u001b[39m score:\n\u001b[1;32m     56\u001b[0m         \u001b[39mself\u001b[39m\u001b[39m.\u001b[39mbestscore \u001b[39m=\u001b[39m score\n",
      "File \u001b[0;32m~/MCTS_SelfLearn/DeadZone.py:41\u001b[0m, in \u001b[0;36mDeadZone.__call__\u001b[0;34m(self, parameters, verbose, depth, **kwargs)\u001b[0m\n\u001b[1;32m     39\u001b[0m \u001b[39mprint\u001b[39m(\u001b[39m\"\u001b[39m\u001b[39mStarting Chain, Depth: \u001b[39m\u001b[39m%s\u001b[39;00m\u001b[39m\"\u001b[39m\u001b[39m%\u001b[39m(depth))\n\u001b[1;32m     40\u001b[0m score \u001b[39m=\u001b[39m \u001b[39m0.0\u001b[39m\n\u001b[0;32m---> 41\u001b[0m score \u001b[39m+\u001b[39m\u001b[39m=\u001b[39m \u001b[39mself\u001b[39;49m\u001b[39m.\u001b[39;49mgetchildscores(parameters\u001b[39m=\u001b[39;49mparameters, model\u001b[39m=\u001b[39;49m\u001b[39mself\u001b[39;49m\u001b[39m.\u001b[39;49mmodel, depth\u001b[39m=\u001b[39;49mdepth, \u001b[39m*\u001b[39;49m\u001b[39m*\u001b[39;49mkwargs)\n\u001b[1;32m     42\u001b[0m numscore \u001b[39m=\u001b[39m np\u001b[39m.\u001b[39marray(score)\n\u001b[1;32m     43\u001b[0m \u001b[39mif\u001b[39;00m \u001b[39mnot\u001b[39;00m verbose \u001b[39mor\u001b[39;00m \u001b[39mnot\u001b[39;00m \u001b[39mself\u001b[39m\u001b[39m.\u001b[39mpsudumpfilename \u001b[39mis\u001b[39;00m \u001b[39mNone\u001b[39;00m:\n",
      "File \u001b[0;32m~/MCTS_SelfLearn/ObjectiveClass.py:54\u001b[0m, in \u001b[0;36mHeriacleObjective.getchildscores\u001b[0;34m(self, depth, **kwargs)\u001b[0m\n\u001b[1;32m     52\u001b[0m     \u001b[39mreturn\u001b[39;00m score\n\u001b[1;32m     53\u001b[0m \u001b[39mfor\u001b[39;00m child \u001b[39min\u001b[39;00m \u001b[39mself\u001b[39m\u001b[39m.\u001b[39mchildlist:\n\u001b[0;32m---> 54\u001b[0m     score \u001b[39m+\u001b[39m\u001b[39m=\u001b[39m child(depth\u001b[39m=\u001b[39;49mdepth\u001b[39m+\u001b[39;49m\u001b[39m1\u001b[39;49m, \u001b[39m*\u001b[39;49m\u001b[39m*\u001b[39;49mkwargs)\n\u001b[1;32m     55\u001b[0m \u001b[39mreturn\u001b[39;00m score\n",
      "File \u001b[0;32m~/MCTS_SelfLearn/HierObj_FuncTest.py:62\u001b[0m, in \u001b[0;36mFunc_Fragment.__call__\u001b[0;34m(self, parameters, depth, **kwargs)\u001b[0m\n\u001b[1;32m     59\u001b[0m         score \u001b[39m=\u001b[39m \u001b[39m0.0\u001b[39m\n\u001b[1;32m     60\u001b[0m         mctsrule \u001b[39m=\u001b[39m kwargs[\u001b[39m'\u001b[39m\u001b[39mmodel\u001b[39m\u001b[39m'\u001b[39m]\n\u001b[0;32m---> 62\u001b[0m         bestscore, best_x, n_evals \u001b[39m=\u001b[39m runtrial(\u001b[39mself\u001b[39;49m\u001b[39m.\u001b[39;49mfunction, mctsrule, \u001b[39mself\u001b[39;49m\u001b[39m.\u001b[39;49mlbounds, \u001b[39mself\u001b[39;49m\u001b[39m.\u001b[39;49mubounds)\n\u001b[1;32m     64\u001b[0m         x_error \u001b[39m=\u001b[39m np\u001b[39m.\u001b[39mlinalg\u001b[39m.\u001b[39mnorm(best_x \u001b[39m-\u001b[39m \u001b[39mself\u001b[39m\u001b[39m.\u001b[39mtarget_x)\n\u001b[1;32m     65\u001b[0m \u001b[39m#        bestscore = (bestscore - self.ymin)/(self.ymax - self.ymin)\u001b[39;00m\n",
      "File \u001b[0;32m~/MCTS_SelfLearn/MCTS_Trial.py:37\u001b[0m, in \u001b[0;36mruntrial\u001b[0;34m(testfunction, selectionrule, lbounds, ubounds)\u001b[0m\n\u001b[1;32m     34\u001b[0m f_target \u001b[39m=\u001b[39m testfunction\u001b[39m.\u001b[39mf_best\n\u001b[1;32m     35\u001b[0m startset \u001b[39m=\u001b[39m np\u001b[39m.\u001b[39mrandom\u001b[39m.\u001b[39muniform(lbounds, ubounds, size\u001b[39m=\u001b[39mubounds\u001b[39m.\u001b[39mshape[\u001b[39m0\u001b[39m])\n\u001b[0;32m---> 37\u001b[0m indata \u001b[39m=\u001b[39m UniformSearch(parameters\u001b[39m=\u001b[39;49mstartset, lbounds\u001b[39m=\u001b[39;49mlbounds, ubounds\u001b[39m=\u001b[39;49mubounds, depthscale\u001b[39m=\u001b[39;49mdepthscale, lossfunction\u001b[39m=\u001b[39;49mwrappedfunction)\n\u001b[1;32m     40\u001b[0m \u001b[39m#---Tree Main Run loop---\u001b[39;00m\n\u001b[1;32m     41\u001b[0m \u001b[39m#Critical Parameters to Set\u001b[39;00m\n\u001b[1;32m     42\u001b[0m tree \u001b[39m=\u001b[39m Tree(seeddata\u001b[39m=\u001b[39mindata, \n\u001b[1;32m     43\u001b[0m         playouts\u001b[39m=\u001b[39m\u001b[39m20\u001b[39m, \n\u001b[1;32m     44\u001b[0m         selectfunction\u001b[39m=\u001b[39mselectionrule, \n\u001b[1;32m     45\u001b[0m         headexpansion\u001b[39m=\u001b[39m\u001b[39m10\u001b[39m,\n\u001b[1;32m     46\u001b[0m         verbose\u001b[39m=\u001b[39m\u001b[39mTrue\u001b[39;00m)\n",
      "File \u001b[0;32m/usr/local/lib/python3.10/dist-packages/MCTSOpt-0.0.2-py3.10.egg/MCTSOpt/ParameterOpt/UniformSearch.py:14\u001b[0m, in \u001b[0;36mUniformSearch.__init__\u001b[0;34m(self, parameters, lossfunction, lbounds, ubounds, depthscale, options)\u001b[0m\n\u001b[1;32m     13\u001b[0m \u001b[39mdef\u001b[39;00m \u001b[39m__init__\u001b[39m(\u001b[39mself\u001b[39m, parameters, lossfunction, lbounds, ubounds, depthscale\u001b[39m=\u001b[39m\u001b[39mNone\u001b[39;00m, options\u001b[39m=\u001b[39m{}):\n\u001b[0;32m---> 14\u001b[0m     \u001b[39msuper\u001b[39;49m()\u001b[39m.\u001b[39;49m\u001b[39m__init__\u001b[39;49m(parameters, lossfunction, lbounds, ubounds, depthscale, options)\n",
      "File \u001b[0;32m/usr/local/lib/python3.10/dist-packages/MCTSOpt-0.0.2-py3.10.egg/MCTSOpt/ParameterOpt/ParameterObject.py:47\u001b[0m, in \u001b[0;36mParameterData.__init__\u001b[0;34m(self, parameters, lossfunction, lbounds, ubounds, depthscale, parentscale, options)\u001b[0m\n\u001b[1;32m     45\u001b[0m     \u001b[39mself\u001b[39m\u001b[39m.\u001b[39mdepthscale \u001b[39m=\u001b[39m depthscale\n\u001b[1;32m     46\u001b[0m \u001b[39mself\u001b[39m\u001b[39m.\u001b[39mrandomscale \u001b[39m=\u001b[39m (\u001b[39m1.0\u001b[39m\u001b[39m/\u001b[39m\u001b[39m0.9\u001b[39m\u001b[39m-\u001b[39m\u001b[39m0.90\u001b[39m)\u001b[39m*\u001b[39mrandom() \u001b[39m+\u001b[39m \u001b[39m0.90\u001b[39m\n\u001b[0;32m---> 47\u001b[0m \u001b[39mself\u001b[39m\u001b[39m.\u001b[39mrandomscale \u001b[39m*\u001b[39m\u001b[39m=\u001b[39m parentscale\n\u001b[1;32m     49\u001b[0m \u001b[39mif\u001b[39;00m (lbounds \u001b[39mis\u001b[39;00m \u001b[39mNone\u001b[39;00m) \u001b[39mor\u001b[39;00m (ubounds \u001b[39mis\u001b[39;00m \u001b[39mNone\u001b[39;00m):\n\u001b[1;32m     50\u001b[0m     \u001b[39mraise\u001b[39;00m InvalidParameterBounds(\u001b[39m\"\u001b[39m\u001b[39mThe upper and lower parameter bounds must be defined!\u001b[39m\u001b[39m\"\u001b[39m)\n",
      "\u001b[0;31mTypeError\u001b[0m: unsupported operand type(s) for *=: 'float' and 'dict'"
     ]
    }
   ],
   "source": [
    "\n",
    "\n",
    "\n",
    "\n",
    "#---Tree Main Run loop---\n",
    "#Critical Parameters to Set\n",
    "tree = Tree(seeddata=indata, \n",
    "        playouts=20, \n",
    "        selectfunction=UBStocastic, \n",
    "        headexpansion=30,\n",
    "        verbose=True\n",
    "        )\n",
    "tree.expand(nExpansions=1)\n",
    "tree.setconstant(5.37e2)\n",
    "starttime = time()\n",
    "for iLoop in range(1,150):\n",
    "    print(\"Loop Number: %s\"%(iLoop))\n",
    "    tree.playexpand(nExpansions=1, depthlimit=depthlimit)\n",
    "    tree.autoscaleconstant(scaleboost=2.0)\n",
    "    tree.simulate(nSimulations=1)\n",
    "    curtime = time()\n",
    "    curmin = objfunc.bestscore\n",
    "    print(\"Search Duration: %s, Best Score:%s\"%(curtime-starttime, curmin))"
   ]
  },
  {
   "cell_type": "code",
   "execution_count": null,
   "metadata": {},
   "outputs": [],
   "source": []
  }
 ],
 "metadata": {
  "kernelspec": {
   "display_name": "Python 3",
   "language": "python",
   "name": "python3"
  },
  "language_info": {
   "codemirror_mode": {
    "name": "ipython",
    "version": 3
   },
   "file_extension": ".py",
   "mimetype": "text/x-python",
   "name": "python",
   "nbconvert_exporter": "python",
   "pygments_lexer": "ipython3",
   "version": "3.10.6"
  }
 },
 "nbformat": 4,
 "nbformat_minor": 2
}
