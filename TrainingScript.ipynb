{
 "cells": [
  {
   "cell_type": "code",
   "execution_count": 2,
   "metadata": {},
   "outputs": [],
   "source": [
    "from MCTSOpt import Tree\n",
    "from MCTSOpt import SelectionRule_Stocastic\n",
    "from MCTSOpt.ParameterOpt import LogisticSearch\n",
    "from time import time"
   ]
  },
  {
   "cell_type": "code",
   "execution_count": 11,
   "metadata": {},
   "outputs": [
    {
     "name": "stdout",
     "output_type": "stream",
     "text": [
      "(1, 32)\n",
      "(32,)\n",
      "(32, 64)\n",
      "(64,)\n",
      "(64, 64)\n",
      "(64,)\n",
      "(64, 32)\n",
      "(32,)\n",
      "(32, 1)\n",
      "(1,)\n",
      "Number of parameters:  8449\n"
     ]
    },
    {
     "name": "stderr",
     "output_type": "stream",
     "text": [
      "/usr/local/lib/python3.10/dist-packages/keras_core/src/layers/core/dense.py:73: UserWarning: Do not pass an `input_shape`/`input_dim` argument to a layer. When using Sequential models, prefer using an `Input(shape)` object as the first layer in the model instead.\n",
      "  super().__init__(activity_regularizer=activity_regularizer, **kwargs)\n"
     ]
    }
   ],
   "source": [
    "from Model import getexploremodel\n",
    "model = getexploremodel()\n",
    "\n",
    "nparameters = 0\n",
    "for layer in model.trainable_weights:\n",
    "    print(layer.shape)\n",
    "    nparameters += layer.shape.num_elements()\n",
    "print(\"Number of parameters: \", nparameters)\n",
    "\n"
   ]
  },
  {
   "cell_type": "code",
   "execution_count": null,
   "metadata": {},
   "outputs": [],
   "source": [
    "from ScoringFunction import MCTS_MacroScore\n",
    "objfunc = MCTS_MacroScore(model, 0.5, 0.5, 0.5, 0.5, 0.5, 0.5)"
   ]
  },
  {
   "cell_type": "code",
   "execution_count": null,
   "metadata": {},
   "outputs": [],
   "source": [
    "depthscale = [1.0, 0.7, 0.5, 0.3, 0.2, 0.1]\n",
    "depthlimit = len(depthscale)+5\n",
    "\n",
    "\n",
    "\n",
    "indata = LogisticSearch(startset, lbounds, ubounds, depthscale=depthscale)\n",
    "indata.setevaluator(wrappedfunction)"
   ]
  },
  {
   "cell_type": "code",
   "execution_count": null,
   "metadata": {},
   "outputs": [],
   "source": [
    "\n",
    "\n",
    "\n",
    "\n",
    "#---Tree Main Run loop---\n",
    "#Critical Parameters to Set\n",
    "tree = Tree(seeddata=indata, \n",
    "        playouts=20, \n",
    "        selectfunction=SelectionRule_Stocastic, \n",
    "        headexpansion=10)\n",
    "tree.expand(nExpansions=1)\n",
    "tree.setconstant(5.37e2)\n",
    "starttime = time()\n",
    "for iLoop in range(1,50):\n",
    "    print(\"Loop Number: %s\"%(iLoop))\n",
    "    tree.playexpand(nExpansions=1, depthlimit=depthlimit)\n",
    "    tree.autoscaleconstant(scaleboost=2.0)\n",
    "    tree.simulate(nSimulations=1)\n",
    "    curmin = wrappedfunction.bestscore\n",
    "    if fabs(curmin - f_target) < 1e-4 and np.linalg.norm(wrappedfunction.best_x - testfunction.x_best) < 1e-4:\n",
    "        break\n",
    "    curtime = time()\n",
    "    print(\"Search Duration: %s, Best Score:%s\"%(curtime-starttime, curmin))\n",
    "bestscore = wrappedfunction.bestscore   \n",
    "evalcount = wrappedfunction.evalcount \n",
    "best_x = wrappedfunction.best_x\n",
    "return bestscore, best_x, evalcount"
   ]
  }
 ],
 "metadata": {
  "kernelspec": {
   "display_name": "Python 3",
   "language": "python",
   "name": "python3"
  },
  "language_info": {
   "codemirror_mode": {
    "name": "ipython",
    "version": 3
   },
   "file_extension": ".py",
   "mimetype": "text/x-python",
   "name": "python",
   "nbconvert_exporter": "python",
   "pygments_lexer": "ipython3",
   "version": "3.10.6"
  }
 },
 "nbformat": 4,
 "nbformat_minor": 2
}
