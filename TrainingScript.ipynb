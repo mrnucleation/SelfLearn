{
 "cells": [
  {
   "cell_type": "code",
   "execution_count": null,
   "metadata": {},
   "outputs": [],
   "source": [
    "from MCTSOpt import Tree\n",
    "from MCTSOpt.SelectionRule_Stocastic import UBStocastic\n",
    "from MCTSOpt.ParameterOpt import LogisticSearch\n",
    "from time import time\n",
    "import numpy as np"
   ]
  },
  {
   "cell_type": "code",
   "execution_count": null,
   "metadata": {},
   "outputs": [],
   "source": [
    "from Model import getexploremodel\n",
    "model = getexploremodel()\n",
    "\n",
    "nparameters = 0\n",
    "for layer in model.trainable_weights:\n",
    "    print(layer.shape)\n",
    "    nparameters += layer.shape.num_elements()\n",
    "print(\"Number of parameters: \", nparameters)\n",
    "\n"
   ]
  },
  {
   "cell_type": "code",
   "execution_count": null,
   "metadata": {},
   "outputs": [],
   "source": [
    "from ScoringFunction import MCTS_MacroScore\n",
    "deadzonewidth = 0.25\n",
    "objfunc = MCTS_MacroScore(model, deadzone=deadzonewidth)"
   ]
  },
  {
   "cell_type": "code",
   "execution_count": null,
   "metadata": {},
   "outputs": [],
   "source": [
    "depthscale = [1.0, 0.7, 0.5, 0.3, 0.2, 0.1]\n",
    "depthlimit = len(depthscale)+5\n",
    "\n",
    "print(\"Dead Zone Width:\",deadzonewidth)\n",
    "\n",
    "lbounds = []\n",
    "ubounds = []\n",
    "for layer in model.trainable_weights:\n",
    "    print(layer.shape, layer.shape.num_elements())\n",
    "    if layer.ndim != 1:\n",
    "        lbounds += [ 0.0-deadzonewidth]*layer.shape.num_elements()\n",
    "        ubounds += [ 1.5+deadzonewidth]*layer.shape.num_elements()\n",
    "    else:\n",
    "        lbounds += [ -5.0-deadzonewidth]*layer.shape.num_elements()\n",
    "        ubounds += [  5.0+deadzonewidth]*layer.shape.num_elements()       \n",
    "\n",
    "startset = [0.0]*nparameters\n",
    "\n",
    "startset = np.array(startset)\n",
    "lbounds = np.array(lbounds)\n",
    "ubounds = np.array(ubounds)\n",
    "\n",
    "print(\"Startset size:\", startset.shape)\n",
    "print(\"Lbounds size:\", lbounds.shape)\n",
    "print(\"Ubounds size:\", ubounds.shape)\n",
    "\n",
    "#print(\"Startset: \", startset)\n",
    "#print(\"Lbounds: \", lbounds, lbounds.min(), lbounds.max())\n",
    "#print(\"Ubounds: \", ubounds, ubounds.min(), ubounds.max())\n",
    "\n",
    "\n",
    "indata = LogisticSearch(parameters=startset, lossfunction=objfunc,  lbounds=lbounds, ubounds=ubounds, depthscale=depthscale)"
   ]
  },
  {
   "cell_type": "code",
   "execution_count": null,
   "metadata": {},
   "outputs": [],
   "source": [
    "\n",
    "\n",
    "\n",
    "\n",
    "#---Tree Main Run loop---\n",
    "#Critical Parameters to Set\n",
    "tree = Tree(seeddata=indata, \n",
    "        playouts=20, \n",
    "        selectfunction=UBStocastic, \n",
    "        headexpansion=30,\n",
    "        verbose=True\n",
    "        )\n",
    "tree.expand(nExpansions=1)\n",
    "tree.setconstant(5.37e2)\n",
    "starttime = time()\n",
    "for iLoop in range(1,150):\n",
    "    print(\"Loop Number: %s\"%(iLoop))\n",
    "    tree.playexpand(nExpansions=1, depthlimit=depthlimit)\n",
    "    tree.autoscaleconstant(scaleboost=2.0)\n",
    "    tree.simulate(nSimulations=1)\n",
    "    curtime = time()\n",
    "    model.save_weights(\"MCTSweights.h5\")\n",
    "    curmin = objfunc.bestscore\n",
    "    print(\"Search Duration: %s, Best Score:%s\"%(curtime-starttime, curmin))"
   ]
  },
  {
   "cell_type": "code",
   "execution_count": null,
   "metadata": {},
   "outputs": [],
   "source": []
  }
 ],
 "metadata": {
  "kernelspec": {
   "display_name": "Python 3",
   "language": "python",
   "name": "python3"
  },
  "language_info": {
   "codemirror_mode": {
    "name": "ipython",
    "version": 3
   },
   "file_extension": ".py",
   "mimetype": "text/x-python",
   "name": "python",
   "nbconvert_exporter": "python",
   "pygments_lexer": "ipython3",
   "version": "3.10.6"
  }
 },
 "nbformat": 4,
 "nbformat_minor": 2
}
